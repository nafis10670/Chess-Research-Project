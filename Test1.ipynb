{
 "cells": [
  {
   "cell_type": "code",
   "execution_count": 1,
   "metadata": {},
   "outputs": [],
   "source": [
    "import chess\n",
    "from stockfish import Stockfish"
   ]
  },
  {
   "cell_type": "code",
   "execution_count": 4,
   "metadata": {},
   "outputs": [],
   "source": [
    "# STOCKFISH_PATH = r\"C:\\Users\\nafis\\Downloads\\stockfish-windows-x86-64-avx2\\stockfish\\stockfish-windows-x86-64-avx2.exe\"\n",
    "\n",
    "HIGH_ELO = 3500\n",
    "LOW_ELO = 1000\n",
    "\n",
    "NUM_GAMES = 10"
   ]
  },
  {
   "cell_type": "code",
   "execution_count": 8,
   "metadata": {},
   "outputs": [],
   "source": [
    "high_elo_engine = Stockfish(r\"C:\\Users\\nafis\\Downloads\\stockfish-windows-x86-64-avx2\\stockfish\\stockfish-windows-x86-64-avx2.exe\")\n",
    "high_elo_engine.update_engine_parameters({\"UCI_LimitStrength\": True, \"UCI_Elo\": HIGH_ELO})\n",
    "\n",
    "low_elo_engine = Stockfish(r\"C:\\Users\\nafis\\Downloads\\stockfish-windows-x86-64-avx2\\stockfish\\stockfish-windows-x86-64-avx2.exe\")\n",
    "low_elo_engine.update_engine_parameters({\"UCI_LimitStrength\": True, \"UCI_Elo\": LOW_ELO})\n"
   ]
  },
  {
   "cell_type": "code",
   "execution_count": 9,
   "metadata": {},
   "outputs": [],
   "source": [
    "high_elo_wins = 0\n",
    "low_elo_wins = 0\n",
    "draws = 0"
   ]
  },
  {
   "cell_type": "code",
   "execution_count": 10,
   "metadata": {},
   "outputs": [
    {
     "name": "stdout",
     "output_type": "stream",
     "text": [
      "Starting game 1...\n",
      "Game 1 result: 1-0\n",
      "\n",
      "Starting game 2...\n",
      "Game 2 result: 1-0\n",
      "\n",
      "Starting game 3...\n",
      "Game 3 result: 1-0\n",
      "\n",
      "Starting game 4...\n",
      "Game 4 result: 1-0\n",
      "\n",
      "Starting game 5...\n",
      "Game 5 result: 1-0\n",
      "\n",
      "Starting game 6...\n",
      "Game 6 result: 1-0\n",
      "\n",
      "Starting game 7...\n",
      "Game 7 result: 1-0\n",
      "\n",
      "Starting game 8...\n",
      "Game 8 result: 1-0\n",
      "\n",
      "Starting game 9...\n",
      "Game 9 result: 1-0\n",
      "\n",
      "Starting game 10...\n",
      "Game 10 result: 1-0\n",
      "\n"
     ]
    }
   ],
   "source": [
    "for game_number in range(1, NUM_GAMES + 1):\n",
    "    print(f\"Starting game {game_number}...\")\n",
    "    board = chess.Board()\n",
    "\n",
    "    while not board.is_game_over():\n",
    "        # Determine which engine to use based on turn\n",
    "        current_engine = high_elo_engine if board.turn == chess.WHITE else low_elo_engine\n",
    "\n",
    "        # Set the position on the board for the engine\n",
    "        current_engine.set_fen_position(board.fen())\n",
    "\n",
    "        # Get the best move from the engine\n",
    "        best_move = current_engine.get_best_move()\n",
    "        if best_move is None:\n",
    "            print(\"Engine failed to provide a move.\")\n",
    "            break\n",
    "\n",
    "        # Apply the move to the board\n",
    "        move = chess.Move.from_uci(best_move)\n",
    "        board.push(move)\n",
    "\n",
    "    # Record the result of the game\n",
    "    result = board.result()\n",
    "    if result == \"1-0\":\n",
    "        high_elo_wins += 1\n",
    "    elif result == \"0-1\":\n",
    "        low_elo_wins += 1\n",
    "    else:\n",
    "        draws += 1\n",
    "\n",
    "    print(f\"Game {game_number} result: {result}\\n\")"
   ]
  },
  {
   "cell_type": "code",
   "execution_count": 11,
   "metadata": {},
   "outputs": [
    {
     "name": "stdout",
     "output_type": "stream",
     "text": [
      "Final Results after 10 games:\n",
      "High ELO Wins: 10\n",
      "Low ELO Wins: 0\n",
      "Draws: 0\n"
     ]
    }
   ],
   "source": [
    "print(f\"Final Results after {NUM_GAMES} games:\")\n",
    "print(f\"High ELO Wins: {high_elo_wins}\")\n",
    "print(f\"Low ELO Wins: {low_elo_wins}\")\n",
    "print(f\"Draws: {draws}\")\n"
   ]
  },
  {
   "cell_type": "code",
   "execution_count": 12,
   "metadata": {},
   "outputs": [],
   "source": [
    "with open(\"elo_match_results.txt\", \"w\") as result_file:\n",
    "    result_file.write(f\"Final Results after {NUM_GAMES} games:\\n\")\n",
    "    result_file.write(f\"High ELO Wins: {high_elo_wins}\\n\")\n",
    "    result_file.write(f\"Low ELO Wins: {low_elo_wins}\\n\")\n",
    "    result_file.write(f\"Draws: {draws}\\n\")\n"
   ]
  },
  {
   "cell_type": "code",
   "execution_count": null,
   "metadata": {},
   "outputs": [],
   "source": []
  }
 ],
 "metadata": {
  "kernelspec": {
   "display_name": "Python 3",
   "language": "python",
   "name": "python3"
  },
  "language_info": {
   "codemirror_mode": {
    "name": "ipython",
    "version": 3
   },
   "file_extension": ".py",
   "mimetype": "text/x-python",
   "name": "python",
   "nbconvert_exporter": "python",
   "pygments_lexer": "ipython3",
   "version": "3.12.5"
  }
 },
 "nbformat": 4,
 "nbformat_minor": 2
}
