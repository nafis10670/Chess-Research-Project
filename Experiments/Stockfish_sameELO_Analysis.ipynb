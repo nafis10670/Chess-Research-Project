{
 "cells": [
  {
   "cell_type": "markdown",
   "metadata": {},
   "source": [
    "## Imports"
   ]
  },
  {
   "cell_type": "code",
   "execution_count": 1,
   "metadata": {},
   "outputs": [],
   "source": [
    "import pandas as pd"
   ]
  },
  {
   "cell_type": "markdown",
   "metadata": {},
   "source": [
    "## Read the CSV file"
   ]
  },
  {
   "cell_type": "code",
   "execution_count": 2,
   "metadata": {},
   "outputs": [
    {
     "data": {
      "text/html": [
       "<div>\n",
       "<style scoped>\n",
       "    .dataframe tbody tr th:only-of-type {\n",
       "        vertical-align: middle;\n",
       "    }\n",
       "\n",
       "    .dataframe tbody tr th {\n",
       "        vertical-align: top;\n",
       "    }\n",
       "\n",
       "    .dataframe thead th {\n",
       "        text-align: right;\n",
       "    }\n",
       "</style>\n",
       "<table border=\"1\" class=\"dataframe\">\n",
       "  <thead>\n",
       "    <tr style=\"text-align: right;\">\n",
       "      <th></th>\n",
       "      <th>Game Number</th>\n",
       "      <th>Result</th>\n",
       "    </tr>\n",
       "  </thead>\n",
       "  <tbody>\n",
       "    <tr>\n",
       "      <th>0</th>\n",
       "      <td>1.0</td>\n",
       "      <td>1-0</td>\n",
       "    </tr>\n",
       "    <tr>\n",
       "      <th>1</th>\n",
       "      <td>2.0</td>\n",
       "      <td>1/2-1/2</td>\n",
       "    </tr>\n",
       "    <tr>\n",
       "      <th>2</th>\n",
       "      <td>3.0</td>\n",
       "      <td>1/2-1/2</td>\n",
       "    </tr>\n",
       "    <tr>\n",
       "      <th>3</th>\n",
       "      <td>4.0</td>\n",
       "      <td>1-0</td>\n",
       "    </tr>\n",
       "    <tr>\n",
       "      <th>4</th>\n",
       "      <td>5.0</td>\n",
       "      <td>1/2-1/2</td>\n",
       "    </tr>\n",
       "  </tbody>\n",
       "</table>\n",
       "</div>"
      ],
      "text/plain": [
       "   Game Number   Result\n",
       "0          1.0      1-0\n",
       "1          2.0  1/2-1/2\n",
       "2          3.0  1/2-1/2\n",
       "3          4.0      1-0\n",
       "4          5.0  1/2-1/2"
      ]
     },
     "execution_count": 2,
     "metadata": {},
     "output_type": "execute_result"
    }
   ],
   "source": [
    "df = pd.read_csv(\"/Users/nafis-mac/GitHub Repos/Chess-Research-Project/Experiments/Stockfish_vs_Stockfish_sameELO.csv\")\n",
    "df = df.iloc[:-1]\n",
    "df = df.iloc[:, :2]\n",
    "\n",
    "df.head()"
   ]
  },
  {
   "cell_type": "markdown",
   "metadata": {},
   "source": [
    "## Separating the odd and even rows"
   ]
  },
  {
   "cell_type": "code",
   "execution_count": 3,
   "metadata": {},
   "outputs": [
    {
     "name": "stdout",
     "output_type": "stream",
     "text": [
      "Odd rows: 1000  Even rows: 1000\n"
     ]
    }
   ],
   "source": [
    "odd_rows = df.iloc[::2]   # Starts at index 0 and takes every 2nd row\n",
    "even_rows = df.iloc[1::2]  # Starts at index 1 and takes every 2nd row\n",
    "\n",
    "print(f\"Odd rows: {odd_rows.size}  Even rows: {even_rows.size}\")"
   ]
  },
  {
   "cell_type": "markdown",
   "metadata": {},
   "source": [
    "## "
   ]
  },
  {
   "cell_type": "code",
   "execution_count": 4,
   "metadata": {},
   "outputs": [],
   "source": [
    "odd_white_wins = odd_rows['Result'].value_counts().get('1-0', 0)\n",
    "odd_black_wins = odd_rows['Result'].value_counts().get('0-1', 0)\n",
    "# odd_draws = odd_rows['Result'].value_counts().get('1/2-1/2', 0)\n",
    "odd_draws = odd_rows['Result'].isin(['1/2-1/2', '*']).sum()\n",
    "# print(count_value)"
   ]
  },
  {
   "cell_type": "code",
   "execution_count": 7,
   "metadata": {},
   "outputs": [],
   "source": [
    "even_white_wins = even_rows['Result'].value_counts().get('1-0', 0)\n",
    "even_black_wins = even_rows['Result'].value_counts().get('0-1', 0)\n",
    "# even_draws = even_rows['Result'].value_counts().get('1/2-1/2', 0)\n",
    "even_draws = even_rows['Result'].isin(['1/2-1/2', '*']).sum()"
   ]
  },
  {
   "cell_type": "code",
   "execution_count": 26,
   "metadata": {},
   "outputs": [
    {
     "name": "stdout",
     "output_type": "stream",
     "text": [
      "Odd WHITE: 68\n",
      "Odd BLACK: 22\n",
      "Odd DRAWS: 405\n",
      "\n",
      "Even WHITE: 70\n",
      "Even BLACK: 18\n",
      "Even DRAWS: 409\n"
     ]
    }
   ],
   "source": [
    "print(f\"Odd WHITE: {odd_white_wins}\\nOdd BLACK: {odd_black_wins}\\nOdd DRAWS: {odd_draws}\\n\\nEven WHITE: {even_white_wins}\\nEven BLACK: {even_black_wins}\\nEven DRAWS: {even_draws}\")"
   ]
  },
  {
   "cell_type": "code",
   "execution_count": 8,
   "metadata": {},
   "outputs": [
    {
     "name": "stdout",
     "output_type": "stream",
     "text": [
      "Odd WHITE: 68\n",
      "Odd BLACK: 22\n",
      "Odd DRAWS: 410\n",
      "\n",
      "Even WHITE: 70\n",
      "Even BLACK: 18\n",
      "Even DRAWS: 412\n"
     ]
    }
   ],
   "source": [
    "print(f\"Odd WHITE: {odd_white_wins}\\nOdd BLACK: {odd_black_wins}\\nOdd DRAWS: {odd_draws}\\n\\nEven WHITE: {even_white_wins}\\nEven BLACK: {even_black_wins}\\nEven DRAWS: {even_draws}\")"
   ]
  }
 ],
 "metadata": {
  "kernelspec": {
   "display_name": "env",
   "language": "python",
   "name": "python3"
  },
  "language_info": {
   "codemirror_mode": {
    "name": "ipython",
    "version": 3
   },
   "file_extension": ".py",
   "mimetype": "text/x-python",
   "name": "python",
   "nbconvert_exporter": "python",
   "pygments_lexer": "ipython3",
   "version": "3.12.5"
  }
 },
 "nbformat": 4,
 "nbformat_minor": 2
}
