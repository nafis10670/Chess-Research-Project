{
 "cells": [
  {
   "cell_type": "code",
   "execution_count": null,
   "metadata": {},
   "outputs": [],
   "source": [
    "import chess\n",
    "from stockfish import Stockfish\n",
    "from ollama import chat\n",
    "from ollama import ChatResponse\n",
    "import json\n",
    "import random\n",
    "import pandas as pd"
   ]
  },
  {
   "cell_type": "code",
   "execution_count": null,
   "metadata": {},
   "outputs": [],
   "source": [
    "# STOCKFISH_PATH = r\"C:\\Users\\nafis\\Downloads\\stockfish-windows-x86-64-avx2\\stockfish\\stockfish-windows-x86-64-avx2.exe\"\n",
    "\n",
    "STOCKFISH_ELO = 3500\n",
    "NUM_GAMES = 100\n",
    "MOVE_LIMIT = 100"
   ]
  },
  {
   "cell_type": "code",
   "execution_count": null,
   "metadata": {},
   "outputs": [],
   "source": [
    "stockfish = Stockfish()\n"
   ]
  },
  {
   "cell_type": "code",
   "execution_count": null,
   "metadata": {},
   "outputs": [],
   "source": [
    "qwen_white_wins = 0\n",
    "qwen_black_wins = 0\n",
    "draws = 0"
   ]
  },
  {
   "cell_type": "code",
   "execution_count": null,
   "metadata": {},
   "outputs": [],
   "source": [
    "def valid_move_to_string(board):\n",
    "    legal_moves = [\n",
    "        board.san(move)\n",
    "        for move in board.legal_moves\n",
    "]\n",
    "    \n",
    "    moves = str(legal_moves[0])  # Start with the first move\n",
    "\n",
    "    for move in legal_moves[1:]:  # Skip the first move and iterate over the rest\n",
    "        moves = moves + \" \" + move\n",
    "    return moves"
   ]
  },
  {
   "cell_type": "code",
   "execution_count": null,
   "metadata": {},
   "outputs": [],
   "source": [
    "def get_move_history(board: chess.Board) -> str:\n",
    "    \"\"\"Return a formatted move history string like '1. e4 e5 2. Nf3 d5'.\"\"\"\n",
    "    temp_board = chess.Board()  # Start from the initial position.\n",
    "    move_history = []\n",
    "    \n",
    "    # Iterate over the moves in the board's move stack.\n",
    "    for i, move in enumerate(board.move_stack):\n",
    "        # Get the SAN for the move in the current temporary board.\n",
    "        move_san = temp_board.san(move)\n",
    "        # Push the move so that the board state is updated.\n",
    "        temp_board.push(move)\n",
    "        \n",
    "        # For white moves (even index), start a new entry with move number.\n",
    "        if i % 2 == 0:\n",
    "            move_history.append(f\"{i//2 + 1}. {move_san}\")\n",
    "        # For black moves, append to the last white move entry.\n",
    "        else:\n",
    "            move_history[-1] += f\" {move_san}\"\n",
    "    \n",
    "    # Join all entries with a space.\n",
    "    return \" \".join(move_history)"
   ]
  },
  {
   "cell_type": "code",
   "execution_count": null,
   "metadata": {},
   "outputs": [],
   "source": [
    "def get_qwen_move(board:chess.Board, fen:str, temp=0.0):\n",
    "    valid_moves = valid_move_to_string(board)\n",
    "\n",
    "    move_history = get_move_history(board)\n",
    "    \n",
    "    response: ChatResponse = chat(model='qwen:32b', messages=[\n",
    "        {\n",
    "            'role': 'system',\n",
    "            'content': 'You are a grand master chess player.'\n",
    "        },\n",
    "        {\n",
    "            'role': 'user',\n",
    "            'content': f\"\"\"You are playing chess and it is your turn. This is the current state of the game. Use this to work out where the pieces are on the board:\n",
    "\n",
    "FEN: {fen}\n",
    "\n",
    "The possible set of legal moves are: \n",
    "\n",
    "Legal Moves: {valid_moves}\n",
    "\n",
    "+(You have to choose one from the provided list. Do not choose a move that is not in the list.)\n",
    "\n",
    "The move history is: {move_history}.\n",
    "\n",
    "Output the best move in SAN format to follow this position. Use the following single blob of JSON. Do not include any other information.\n",
    "{{\n",
    "    \"san\": \"The move in SAN format\",\n",
    "}}\"\"\"}], options={\"temperature\": temp})\n",
    "    \n",
    "    try:\n",
    "        parsed_json = json.loads(response.message.content)\n",
    "        qwen_move = parsed_json[\"san\"]\n",
    "    except Exception as e:\n",
    "        print(f\"Wrong format given by Qwen. \\nQwen Output: {response.message.content}\")\n",
    "\n",
    "    \n",
    "\n",
    "    return qwen_move"
   ]
  },
  {
   "cell_type": "code",
   "execution_count": null,
   "metadata": {},
   "outputs": [],
   "source": [
    "def get_random_move(board:chess.Board, fen:str, seed: int = 101):\n",
    "    legal_moves = [\n",
    "        board.san(move)\n",
    "        for move in board.legal_moves\n",
    "    ]\n",
    "\n",
    "    random.seed(seed)\n",
    "\n",
    "    # print(random.choice(legal_moves))\n",
    "    return random.choice(legal_moves)\n",
    "\n",
    "    # print(legal_moves[0])"
   ]
  },
  {
   "cell_type": "code",
   "execution_count": null,
   "metadata": {},
   "outputs": [],
   "source": [
    "for game_number in range(1, NUM_GAMES + 1):\n",
    "    \n",
    "    move_counter = 0\n",
    "\n",
    "    print(f\"Starting game {game_number}...\")\n",
    "\n",
    "    board = chess.Board()\n",
    "\n",
    "    while not board.is_game_over() and move_counter <= MOVE_LIMIT:\n",
    "        if board.turn == chess.WHITE:\n",
    "            qwen_move_white = get_qwen_move(board, board.fen(), 2.0)\n",
    "\n",
    "            try:\n",
    "                board.push_san(qwen_move_white)\n",
    "            except Exception as e:\n",
    "                print(f\"Invalid move by Qwen white. Move: {qwen_move_white}\")\n",
    "                qwen_move_white = get_random_move(board, board.fen(), 42)\n",
    "                board.push_san(qwen_move_white)\n",
    "                print(f\"New Move: {qwen_move_white}\")\n",
    "                # continue\n",
    "            \n",
    "        move_counter += 1        \n",
    "        print(f\"Qwen white move: {qwen_move_white} Move number: {move_counter}\")\n",
    "\n",
    "        if board.turn == chess.BLACK:\n",
    "            qwen_move_black = get_qwen_move(board, board.fen(), 2.0)\n",
    "\n",
    "            try:\n",
    "                board.push_san(qwen_move_black)\n",
    "            except Exception as e:\n",
    "                print(f\"Invalid move by Qwen black. Move: {qwen_move_black}\")\n",
    "                qwen_move_black = get_random_move(board, board.fen(), 42)\n",
    "                board.push_san(qwen_move_black)\n",
    "                print(f\"New Move: {qwen_move_black}\")\n",
    "                # continue\n",
    "        move_counter += 1\n",
    "        print(f\"Qwen black move: {qwen_move_black} Move number: {move_counter}\")   \n",
    "\n",
    "    # Record the result of the game\n",
    "    result = board.result()\n",
    "    if result == \"1-0\":\n",
    "        qwen_white_wins += 1\n",
    "    elif result == \"0-1\":\n",
    "        qwen_black_wins += 1\n",
    "    else:\n",
    "        draws += 1\n",
    "\n",
    "    print(f\"Game {game_number} result: {result}\\n\\n\")"
   ]
  },
  {
   "cell_type": "code",
   "execution_count": null,
   "metadata": {},
   "outputs": [],
   "source": [
    "results = []"
   ]
  },
  {
   "cell_type": "code",
   "execution_count": null,
   "metadata": {},
   "outputs": [],
   "source": [
    "results.append({\n",
    "            \"Qwen White Wins\": qwen_white_wins,\n",
    "            \"Qwen Black Wins\": qwen_black_wins,\n",
    "            \"Draws\": draws,\n",
    "        })\n",
    "\n",
    "print(results)"
   ]
  },
  {
   "cell_type": "code",
   "execution_count": null,
   "metadata": {},
   "outputs": [],
   "source": [
    "df = pd.DataFrame(results)\n",
    "df.to_csv(\"Qwen vs Qwen.csv\", index=False)\n",
    "print(\"Results saved to Qwen vs Qwen.csv\")"
   ]
  }
 ],
 "metadata": {
  "kernelspec": {
   "display_name": "env",
   "language": "python",
   "name": "python3"
  },
  "language_info": {
   "codemirror_mode": {
    "name": "ipython",
    "version": 3
   },
   "file_extension": ".py",
   "mimetype": "text/x-python",
   "name": "python",
   "nbconvert_exporter": "python",
   "pygments_lexer": "ipython3",
   "version": "3.12.5"
  }
 },
 "nbformat": 4,
 "nbformat_minor": 2
}
