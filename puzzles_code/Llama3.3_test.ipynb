{
 "cells": [
  {
   "cell_type": "code",
   "execution_count": 21,
   "metadata": {},
   "outputs": [],
   "source": [
    "import chess\n",
    "from stockfish import Stockfish\n",
    "import re\n",
    "import requests\n",
    "from ollama import chat\n",
    "from ollama import ChatResponse\n"
   ]
  },
  {
   "cell_type": "code",
   "execution_count": 10,
   "metadata": {},
   "outputs": [],
   "source": [
    "stockfish = Stockfish()"
   ]
  },
  {
   "cell_type": "code",
   "execution_count": 6,
   "metadata": {},
   "outputs": [
    {
     "name": "stdout",
     "output_type": "stream",
     "text": [
      "Extracted FEN Notations:\n",
      "['r2qkb1r/pp2nppp/3p4/2pNN1B1/2BnP3/3P4/PPP2PPP/R2bK2R w KQkq - 1 0', '1rb4r/pkPp3p/1b1P3n/1Q6/N3Pp2/8/P1P3PP/7K w - - 1 0', '4kb1r/p2n1ppp/4q3/4p1B1/4P3/1Q6/PPP2PPP/2KR4 w k - 1 0']\n"
     ]
    }
   ],
   "source": [
    "# URL to scrape the text from.\n",
    "url = \"https://wtharvey.com/m8n2.txt\"\n",
    "\n",
    "# Download the text from the website.\n",
    "response = requests.get(url)\n",
    "if response.status_code == 200:\n",
    "    text = response.text\n",
    "else:\n",
    "    print(f\"Failed to retrieve content. Status code: {response.status_code}\")\n",
    "    text = \"\"\n",
    "\n",
    "# Regular expression pattern for matching FEN strings.\n",
    "fen_pattern = re.compile(\n",
    "    r'([prnbqkPRNBQK\\d/]+\\s+[wb]\\s+(?:K?Q?k?q?|-)\\s+(?:[a-h][36]|-)\\s+\\d+\\s+\\d+)'\n",
    ")\n",
    "\n",
    "# Find all FEN notations in the text.\n",
    "fen_notations = fen_pattern.findall(text)\n",
    "\n",
    "# Print the extracted FEN notations.\n",
    "print(\"Extracted FEN Notations:\")\n",
    "# for fen in fen_notations:\n",
    "#     print(fen)\n",
    "\n",
    "print(fen_notations[:3])\n",
    "\n",
    "\n"
   ]
  },
  {
   "cell_type": "code",
   "execution_count": 19,
   "metadata": {},
   "outputs": [
    {
     "name": "stdout",
     "output_type": "stream",
     "text": [
      "2\n"
     ]
    }
   ],
   "source": [
    "stockfish.set_fen_position(fen_notations[0])\n",
    "\n",
    "best_move = stockfish.get_best_move()\n",
    "best_move_eval = stockfish.get_evaluation()\n",
    "\n",
    "print(best_move_eval[\"value\"])"
   ]
  }
 ],
 "metadata": {
  "kernelspec": {
   "display_name": "env",
   "language": "python",
   "name": "python3"
  },
  "language_info": {
   "codemirror_mode": {
    "name": "ipython",
    "version": 3
   },
   "file_extension": ".py",
   "mimetype": "text/x-python",
   "name": "python",
   "nbconvert_exporter": "python",
   "pygments_lexer": "ipython3",
   "version": "3.12.5"
  }
 },
 "nbformat": 4,
 "nbformat_minor": 2
}
