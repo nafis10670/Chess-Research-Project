{
 "cells": [
  {
   "cell_type": "markdown",
   "metadata": {},
   "source": [
    "## Import Libraries"
   ]
  },
  {
   "cell_type": "code",
   "execution_count": 1,
   "metadata": {},
   "outputs": [],
   "source": [
    "import chess\n",
    "from stockfish import Stockfish\n",
    "import re\n",
    "import requests\n",
    "import pandas as pd\n",
    "import random\n"
   ]
  },
  {
   "cell_type": "markdown",
   "metadata": {},
   "source": [
    "## Instantialize the stockfish engine"
   ]
  },
  {
   "cell_type": "code",
   "execution_count": 2,
   "metadata": {},
   "outputs": [],
   "source": [
    "stockfish = Stockfish()"
   ]
  },
  {
   "cell_type": "markdown",
   "metadata": {},
   "source": [
    "## Copy data from the CSV file"
   ]
  },
  {
   "cell_type": "code",
   "execution_count": 3,
   "metadata": {},
   "outputs": [
    {
     "name": "stdout",
     "output_type": "stream",
     "text": [
      "100\n"
     ]
    }
   ],
   "source": [
    "csv_file = \"/Users/nafis-mac/GitHub Repos/Chess-Research-Project/puzzles_code/filtered_fen.csv\"\n",
    "\n",
    "# Read the first 100 rows of the CSV file\n",
    "df = pd.read_csv(csv_file, nrows=100)\n",
    "\n",
    "# Convert the DataFrame rows to a list of lists\n",
    "fen_notations = df[\"FEN\"].tolist()\n",
    "\n",
    "print(len(fen_notations))"
   ]
  },
  {
   "cell_type": "markdown",
   "metadata": {},
   "source": [
    "## Create function for random move generation"
   ]
  },
  {
   "cell_type": "code",
   "execution_count": 4,
   "metadata": {},
   "outputs": [],
   "source": [
    "def get_random_move(board:chess.Board, fen:str, seed: int = 101):\n",
    "    legal_moves = [\n",
    "        board.san(move)\n",
    "        for move in board.legal_moves\n",
    "    ]\n",
    "\n",
    "    random.seed(seed)\n",
    "\n",
    "    # print(random.choice(legal_moves))\n",
    "    return random.choice(legal_moves)\n",
    "\n",
    "    # print(legal_moves[0])"
   ]
  },
  {
   "cell_type": "markdown",
   "metadata": {},
   "source": [
    "### Sanity check for random move generator"
   ]
  },
  {
   "cell_type": "code",
   "execution_count": 5,
   "metadata": {},
   "outputs": [
    {
     "data": {
      "text/plain": [
       "'d3'"
      ]
     },
     "execution_count": 5,
     "metadata": {},
     "output_type": "execute_result"
    }
   ],
   "source": [
    "board = chess.Board(fen=fen_notations[0])\n",
    "\n",
    "get_random_move(board,fen_notations[0])"
   ]
  },
  {
   "cell_type": "markdown",
   "metadata": {},
   "source": [
    "## List for saving results"
   ]
  },
  {
   "cell_type": "code",
   "execution_count": 6,
   "metadata": {},
   "outputs": [],
   "source": [
    "results = []"
   ]
  },
  {
   "cell_type": "markdown",
   "metadata": {},
   "source": [
    "## Getting the best move and random move for multiple iterations for each puzzle"
   ]
  },
  {
   "cell_type": "code",
   "execution_count": null,
   "metadata": {},
   "outputs": [
    {
     "name": "stdout",
     "output_type": "stream",
     "text": [
      "Processing puzzle_id: 1 Iteration: 1\n",
      "Position: rnbqkbnr/p1pppppp/8/1p6/4P3/8/PPPP1PPP/RNBQKBNR w KQkq - 0 2\n",
      "Stockfish best move: f1b5 with evaluation: 195\n",
      "Random move: b4 with evaluation: 21\n",
      "\n",
      "Processing puzzle_id: 1 Iteration: 2\n",
      "Position: rnbqkbnr/p1pppppp/8/1p6/4P3/8/PPPP1PPP/RNBQKBNR w KQkq - 0 2\n",
      "Stockfish best move: f1b5 with evaluation: 195\n",
      "Random move: Bc4 with evaluation: -473\n",
      "\n",
      "Processing puzzle_id: 1 Iteration: 3\n",
      "Position: rnbqkbnr/p1pppppp/8/1p6/4P3/8/PPPP1PPP/RNBQKBNR w KQkq - 0 2\n",
      "Stockfish best move: f1b5 with evaluation: 195\n",
      "Random move: b4 with evaluation: 21\n",
      "\n",
      "Processing puzzle_id: 1 Iteration: 4\n",
      "Position: rnbqkbnr/p1pppppp/8/1p6/4P3/8/PPPP1PPP/RNBQKBNR w KQkq - 0 2\n",
      "Stockfish best move: f1b5 with evaluation: 195\n",
      "Random move: Ke2 with evaluation: -52\n",
      "\n",
      "Processing puzzle_id: 1 Iteration: 5\n",
      "Position: rnbqkbnr/p1pppppp/8/1p6/4P3/8/PPPP1PPP/RNBQKBNR w KQkq - 0 2\n",
      "Stockfish best move: f1b5 with evaluation: 195\n",
      "Random move: Ke2 with evaluation: -52\n",
      "\n",
      "Processing puzzle_id: 1 Iteration: 6\n",
      "Position: rnbqkbnr/p1pppppp/8/1p6/4P3/8/PPPP1PPP/RNBQKBNR w KQkq - 0 2\n",
      "Stockfish best move: f1b5 with evaluation: 195\n",
      "Random move: c3 with evaluation: 52\n",
      "\n",
      "Processing puzzle_id: 1 Iteration: 7\n",
      "Position: rnbqkbnr/p1pppppp/8/1p6/4P3/8/PPPP1PPP/RNBQKBNR w KQkq - 0 2\n",
      "Stockfish best move: f1b5 with evaluation: 195\n",
      "Random move: d4 with evaluation: 119\n",
      "\n",
      "Processing puzzle_id: 1 Iteration: 8\n",
      "Position: rnbqkbnr/p1pppppp/8/1p6/4P3/8/PPPP1PPP/RNBQKBNR w KQkq - 0 2\n",
      "Stockfish best move: f1b5 with evaluation: 195\n",
      "Random move: Qf3 with evaluation: 97\n",
      "\n",
      "Processing puzzle_id: 1 Iteration: 9\n",
      "Position: rnbqkbnr/p1pppppp/8/1p6/4P3/8/PPPP1PPP/RNBQKBNR w KQkq - 0 2\n",
      "Stockfish best move: f1b5 with evaluation: 195\n",
      "Random move: Ke2 with evaluation: -52\n",
      "\n",
      "Processing puzzle_id: 1 Iteration: 10\n",
      "Position: rnbqkbnr/p1pppppp/8/1p6/4P3/8/PPPP1PPP/RNBQKBNR w KQkq - 0 2\n",
      "Stockfish best move: f1b5 with evaluation: 195\n",
      "Random move: e5 with evaluation: 85\n",
      "\n",
      "Processing puzzle_id: 1 Iteration: 11\n",
      "Position: rnbqkbnr/p1pppppp/8/1p6/4P3/8/PPPP1PPP/RNBQKBNR w KQkq - 0 2\n",
      "Stockfish best move: f1b5 with evaluation: 195\n",
      "Random move: d3 with evaluation: 35\n",
      "\n",
      "Processing puzzle_id: 1 Iteration: 12\n",
      "Position: rnbqkbnr/p1pppppp/8/1p6/4P3/8/PPPP1PPP/RNBQKBNR w KQkq - 0 2\n",
      "Stockfish best move: f1b5 with evaluation: 195\n",
      "Random move: e5 with evaluation: 85\n",
      "\n",
      "Processing puzzle_id: 1 Iteration: 13\n",
      "Position: rnbqkbnr/p1pppppp/8/1p6/4P3/8/PPPP1PPP/RNBQKBNR w KQkq - 0 2\n",
      "Stockfish best move: f1b5 with evaluation: 195\n",
      "Random move: h3 with evaluation: 47\n",
      "\n",
      "Processing puzzle_id: 1 Iteration: 14\n",
      "Position: rnbqkbnr/p1pppppp/8/1p6/4P3/8/PPPP1PPP/RNBQKBNR w KQkq - 0 2\n",
      "Stockfish best move: f1b5 with evaluation: 195\n",
      "Random move: Qh5 with evaluation: 2\n",
      "\n",
      "Processing puzzle_id: 1 Iteration: 15\n",
      "Position: rnbqkbnr/p1pppppp/8/1p6/4P3/8/PPPP1PPP/RNBQKBNR w KQkq - 0 2\n",
      "Stockfish best move: f1b5 with evaluation: 195\n",
      "Random move: Bxb5 with evaluation: 195\n",
      "\n",
      "Processing puzzle_id: 1 Iteration: 16\n",
      "Position: rnbqkbnr/p1pppppp/8/1p6/4P3/8/PPPP1PPP/RNBQKBNR w KQkq - 0 2\n",
      "Stockfish best move: f1b5 with evaluation: 195\n",
      "Random move: Be2 with evaluation: 35\n",
      "\n",
      "Processing puzzle_id: 1 Iteration: 17\n",
      "Position: rnbqkbnr/p1pppppp/8/1p6/4P3/8/PPPP1PPP/RNBQKBNR w KQkq - 0 2\n"
     ]
    },
    {
     "ename": "KeyboardInterrupt",
     "evalue": "",
     "output_type": "error",
     "traceback": [
      "\u001b[0;31m---------------------------------------------------------------------------\u001b[0m",
      "\u001b[0;31mKeyboardInterrupt\u001b[0m                         Traceback (most recent call last)",
      "Cell \u001b[0;32mIn[7], line 19\u001b[0m\n\u001b[1;32m     17\u001b[0m board_stockfish\u001b[38;5;241m.\u001b[39mpush(chess\u001b[38;5;241m.\u001b[39mMove\u001b[38;5;241m.\u001b[39mfrom_uci(best_move))\n\u001b[1;32m     18\u001b[0m stockfish\u001b[38;5;241m.\u001b[39mset_fen_position(fen_position\u001b[38;5;241m=\u001b[39mboard_stockfish\u001b[38;5;241m.\u001b[39mfen())\n\u001b[0;32m---> 19\u001b[0m best_eval \u001b[38;5;241m=\u001b[39m \u001b[43mstockfish\u001b[49m\u001b[38;5;241;43m.\u001b[39;49m\u001b[43mget_evaluation\u001b[49m\u001b[43m(\u001b[49m\u001b[43m)\u001b[49m  \u001b[38;5;66;03m# evaluation in centipawns (or mate score)\u001b[39;00m\n\u001b[1;32m     21\u001b[0m \u001b[38;5;66;03m# print(f\"Stockfish best move: {best_move} with evaluation: {best_eval}\")\u001b[39;00m\n\u001b[1;32m     22\u001b[0m \u001b[38;5;28;01mif\u001b[39;00m best_eval[\u001b[38;5;124m\"\u001b[39m\u001b[38;5;124mtype\u001b[39m\u001b[38;5;124m\"\u001b[39m] \u001b[38;5;241m==\u001b[39m \u001b[38;5;124m\"\u001b[39m\u001b[38;5;124mmate\u001b[39m\u001b[38;5;124m\"\u001b[39m:\n",
      "File \u001b[0;32m/opt/anaconda3/envs/env/lib/python3.12/site-packages/stockfish/models.py:505\u001b[0m, in \u001b[0;36mStockfish.get_evaluation\u001b[0;34m(self)\u001b[0m\n\u001b[1;32m    503\u001b[0m \u001b[38;5;28mself\u001b[39m\u001b[38;5;241m.\u001b[39m_go()\n\u001b[1;32m    504\u001b[0m \u001b[38;5;28;01mwhile\u001b[39;00m \u001b[38;5;28;01mTrue\u001b[39;00m:\n\u001b[0;32m--> 505\u001b[0m     text \u001b[38;5;241m=\u001b[39m \u001b[38;5;28;43mself\u001b[39;49m\u001b[38;5;241;43m.\u001b[39;49m\u001b[43m_read_line\u001b[49m\u001b[43m(\u001b[49m\u001b[43m)\u001b[49m\n\u001b[1;32m    506\u001b[0m     splitted_text \u001b[38;5;241m=\u001b[39m text\u001b[38;5;241m.\u001b[39msplit(\u001b[38;5;124m\"\u001b[39m\u001b[38;5;124m \u001b[39m\u001b[38;5;124m\"\u001b[39m)\n\u001b[1;32m    507\u001b[0m     \u001b[38;5;28;01mif\u001b[39;00m splitted_text[\u001b[38;5;241m0\u001b[39m] \u001b[38;5;241m==\u001b[39m \u001b[38;5;124m\"\u001b[39m\u001b[38;5;124minfo\u001b[39m\u001b[38;5;124m\"\u001b[39m:\n",
      "File \u001b[0;32m/opt/anaconda3/envs/env/lib/python3.12/site-packages/stockfish/models.py:161\u001b[0m, in \u001b[0;36mStockfish._read_line\u001b[0;34m(self)\u001b[0m\n\u001b[1;32m    159\u001b[0m \u001b[38;5;28;01mif\u001b[39;00m \u001b[38;5;28mself\u001b[39m\u001b[38;5;241m.\u001b[39m_stockfish\u001b[38;5;241m.\u001b[39mpoll() \u001b[38;5;129;01mis\u001b[39;00m \u001b[38;5;129;01mnot\u001b[39;00m \u001b[38;5;28;01mNone\u001b[39;00m:\n\u001b[1;32m    160\u001b[0m     \u001b[38;5;28;01mraise\u001b[39;00m StockfishException(\u001b[38;5;124m\"\u001b[39m\u001b[38;5;124mThe Stockfish process has crashed\u001b[39m\u001b[38;5;124m\"\u001b[39m)\n\u001b[0;32m--> 161\u001b[0m \u001b[38;5;28;01mreturn\u001b[39;00m \u001b[38;5;28;43mself\u001b[39;49m\u001b[38;5;241;43m.\u001b[39;49m\u001b[43m_stockfish\u001b[49m\u001b[38;5;241;43m.\u001b[39;49m\u001b[43mstdout\u001b[49m\u001b[38;5;241;43m.\u001b[39;49m\u001b[43mreadline\u001b[49m\u001b[43m(\u001b[49m\u001b[43m)\u001b[49m\u001b[38;5;241m.\u001b[39mstrip()\n",
      "\u001b[0;31mKeyboardInterrupt\u001b[0m: "
     ]
    }
   ],
   "source": [
    "puzzle_id = 1\n",
    "\n",
    "\n",
    "for fen in fen_notations:\n",
    "    for i in range (50):\n",
    "        print(f\"Processing puzzle_id: {puzzle_id} Iteration: {i+1}\\nPosition: {fen}\")\n",
    "\n",
    "        board_stockfish = chess.Board(fen=fen)\n",
    "        board_random = chess.Board(fen=fen)\n",
    "\n",
    "        assert board_random == board_stockfish, \"Two boards are not equal\"\n",
    "\n",
    "        stockfish.set_fen_position(fen_position=fen)\n",
    "\n",
    "        best_move = stockfish.get_best_move()\n",
    "\n",
    "        board_stockfish.push(chess.Move.from_uci(best_move))\n",
    "        stockfish.set_fen_position(fen_position=board_stockfish.fen())\n",
    "        best_eval = stockfish.get_evaluation()  # evaluation in centipawns (or mate score)\n",
    "        \n",
    "        # print(f\"Stockfish best move: {best_move} with evaluation: {best_eval}\")\n",
    "        if best_eval[\"type\"] == \"mate\":\n",
    "            break\n",
    "\n",
    "        random_move = get_random_move(board_random, fen, seed=i)\n",
    "\n",
    "        try:\n",
    "            board_random.push_san(random_move)\n",
    "        except Exception as e:\n",
    "            print(f\"Exception captured: {type(e)}\")\n",
    "\n",
    "        stockfish.set_fen_position(fen_position=board_random.fen())\n",
    "        provided_eval = stockfish.get_evaluation()\n",
    "\n",
    "        if provided_eval[\"type\"] == \"mate\":\n",
    "            print(\"ITERATION SKIPPED\")\n",
    "            continue\n",
    "\n",
    "        score_difference = (best_eval[\"value\"]) - (provided_eval[\"value\"])\n",
    "\n",
    "        print(f\"Stockfish best move: {best_move} with evaluation: {best_eval[\"value\"]}\")\n",
    "        print(f\"Random move: {random_move} with evaluation: {provided_eval[\"value\"]}\\n\")\n",
    "\n",
    "        results.append({\n",
    "            \"Iteration\": i+1,\n",
    "            \"Puzzle ID\": puzzle_id,\n",
    "            \"Method\": \"Random\",\n",
    "            \"Best Move Score\": best_eval[\"value\"],\n",
    "            \"Move made by Random Score\": provided_eval[\"value\"],\n",
    "            # \"Score Difference\": score_difference\n",
    "        })\n",
    "    \n",
    "    puzzle_id += 1"
   ]
  },
  {
   "cell_type": "markdown",
   "metadata": {},
   "source": [
    "## Saving data to the CSV file"
   ]
  },
  {
   "cell_type": "code",
   "execution_count": 11,
   "metadata": {},
   "outputs": [
    {
     "name": "stdout",
     "output_type": "stream",
     "text": [
      "Results saved to evaluation_results.csv\n"
     ]
    }
   ],
   "source": [
    "df = pd.DataFrame(results)\n",
    "df.to_csv(\"evaluation_results.csv\", index=False)\n",
    "print(\"Results saved to evaluation_results.csv\")"
   ]
  }
 ],
 "metadata": {
  "kernelspec": {
   "display_name": "env",
   "language": "python",
   "name": "python3"
  },
  "language_info": {
   "codemirror_mode": {
    "name": "ipython",
    "version": 3
   },
   "file_extension": ".py",
   "mimetype": "text/x-python",
   "name": "python",
   "nbconvert_exporter": "python",
   "pygments_lexer": "ipython3",
   "version": "3.12.5"
  }
 },
 "nbformat": 4,
 "nbformat_minor": 2
}
