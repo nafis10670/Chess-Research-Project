{
 "cells": [
  {
   "cell_type": "code",
   "execution_count": 1,
   "metadata": {},
   "outputs": [],
   "source": [
    "import chess\n",
    "from stockfish import Stockfish\n",
    "from ollama import chat\n",
    "from ollama import ChatResponse\n",
    "import json\n",
    "import pandas as pd"
   ]
  },
  {
   "cell_type": "code",
   "execution_count": 2,
   "metadata": {},
   "outputs": [],
   "source": [
    "# STOCKFISH_PATH = r\"C:\\Users\\nafis\\Downloads\\stockfish-windows-x86-64-avx2\\stockfish\\stockfish-windows-x86-64-avx2.exe\"\n",
    "\n",
    "STOCKFISH_ELO = 3500\n",
    "\n",
    "NUM_GAMES = 1"
   ]
  },
  {
   "cell_type": "code",
   "execution_count": 3,
   "metadata": {},
   "outputs": [],
   "source": [
    "stockfish = Stockfish()\n"
   ]
  },
  {
   "cell_type": "code",
   "execution_count": 4,
   "metadata": {},
   "outputs": [],
   "source": [
    "stockfish_wins = 0\n",
    "qwen_wins = 0\n",
    "draws = 0"
   ]
  },
  {
   "cell_type": "code",
   "execution_count": 5,
   "metadata": {},
   "outputs": [],
   "source": [
    "def valid_move_to_string(board):\n",
    "    legal_moves = [\n",
    "        board.san(move)\n",
    "        for move in board.legal_moves\n",
    "]\n",
    "    \n",
    "    moves = str(legal_moves[0])  # Start with the first move\n",
    "\n",
    "    for move in legal_moves[1:]:  # Skip the first move and iterate over the rest\n",
    "        moves = moves + \" \" + move\n",
    "    return moves"
   ]
  },
  {
   "cell_type": "code",
   "execution_count": 8,
   "metadata": {},
   "outputs": [],
   "source": [
    "def get_move_history(board: chess.Board) -> str:\n",
    "    \"\"\"Return a formatted move history string like '1. e4 e5 2. Nf3 d5'.\"\"\"\n",
    "    temp_board = chess.Board()  # Start from the initial position.\n",
    "    move_history = []\n",
    "    \n",
    "    # Iterate over the moves in the board's move stack.\n",
    "    for i, move in enumerate(board.move_stack):\n",
    "        # Get the SAN for the move in the current temporary board.\n",
    "        move_san = temp_board.san(move)\n",
    "        # Push the move so that the board state is updated.\n",
    "        temp_board.push(move)\n",
    "        \n",
    "        # For white moves (even index), start a new entry with move number.\n",
    "        if i % 2 == 0:\n",
    "            move_history.append(f\"{i//2 + 1}. {move_san}\")\n",
    "        # For black moves, append to the last white move entry.\n",
    "        else:\n",
    "            move_history[-1] += f\" {move_san}\"\n",
    "    \n",
    "    # Join all entries with a space.\n",
    "    return \" \".join(move_history)"
   ]
  },
  {
   "cell_type": "code",
   "execution_count": 7,
   "metadata": {},
   "outputs": [],
   "source": [
    "def get_qwen_move(board:chess.Board, fen:str, temp=0.0):\n",
    "    valid_moves = valid_move_to_string(board)\n",
    "    \n",
    "    response: ChatResponse = chat(model='qwen:32b', messages=[\n",
    "        {\n",
    "            'role': 'user',\n",
    "            'content': f\"\"\"You are playing chess as White and it is your turn. This is the current state of the game. Use this to work out where the pieces are on the board:\n",
    "\n",
    "FEN: {fen}\n",
    "\n",
    "The possible set of legal moves are: \n",
    "\n",
    "Legal Moves: {valid_moves}\n",
    "\n",
    "You have to choose one from the provided list. Do not choose a move that is not in the list.\n",
    "\n",
    "Output the best move in SAN format to follow this position. Use the following single blob of JSON. Do not include any other information.\n",
    "{{\n",
    "    \"san\": \"The move in SAN format\",\n",
    "    \"reason\": \"Why this is a good move\"\n",
    "}}\"\"\"}], options={\"temperature\": temp})\n",
    "    \n",
    "    try:\n",
    "        parsed_json = json.loads(response.message.content)\n",
    "        qwen_move = parsed_json[\"san\"]\n",
    "    except Exception as e:\n",
    "        print(f\"Wrong format given by Qwen. \\nQwen Output: {response.message.content}\")\n",
    "\n",
    "    \n",
    "\n",
    "    return qwen_move"
   ]
  },
  {
   "cell_type": "code",
   "execution_count": null,
   "metadata": {},
   "outputs": [
    {
     "name": "stdout",
     "output_type": "stream",
     "text": [
      "Starting game 1...\n",
      "Game 1 result: 1-0\n",
      "\n",
      "Starting game 2...\n",
      "Game 2 result: 1-0\n",
      "\n",
      "Starting game 3...\n",
      "Game 3 result: 1-0\n",
      "\n",
      "Starting game 4...\n",
      "Game 4 result: 1-0\n",
      "\n",
      "Starting game 5...\n",
      "Game 5 result: 1-0\n",
      "\n",
      "Starting game 6...\n",
      "Game 6 result: 1-0\n",
      "\n",
      "Starting game 7...\n",
      "Game 7 result: 1-0\n",
      "\n",
      "Starting game 8...\n",
      "Game 8 result: 1-0\n",
      "\n",
      "Starting game 9...\n",
      "Game 9 result: 1-0\n",
      "\n",
      "Starting game 10...\n",
      "Game 10 result: 1-0\n",
      "\n"
     ]
    }
   ],
   "source": [
    "for game_number in range(1, NUM_GAMES + 1):\n",
    "    print(f\"Starting game {game_number}...\")\n",
    "    board = chess.Board()\n",
    "\n",
    "    while not board.is_game_over():\n",
    "        if board.turn == chess.WHITE:\n",
    "            qwen_move = get_qwen_move(board, board.fen(), 0.6)\n",
    "\n",
    "            try:\n",
    "                board.push_san(qwen_move)\n",
    "            except Exception as e:\n",
    "                print(f\"Invalid move by Qwen. Move: {qwen_move}\")\n",
    "                continue\n",
    "\n",
    "            \n",
    "\n",
    "\n",
    "        # Determine which engine to use based on turn\n",
    "        current_engine = high_elo_engine if board.turn == chess.WHITE else low_elo_engine\n",
    "\n",
    "        # Set the position on the board for the engine\n",
    "        current_engine.set_fen_position(board.fen())\n",
    "\n",
    "        # Get the best move from the engine\n",
    "        best_move = current_engine.get_best_move()\n",
    "        if best_move is None:\n",
    "            print(\"Engine failed to provide a move.\")\n",
    "            break\n",
    "\n",
    "        # Apply the move to the board\n",
    "        move = chess.Move.from_uci(best_move)\n",
    "        board.push(move)\n",
    "\n",
    "    # Record the result of the game\n",
    "    result = board.result()\n",
    "    if result == \"1-0\":\n",
    "        high_elo_wins += 1\n",
    "    elif result == \"0-1\":\n",
    "        low_elo_wins += 1\n",
    "    else:\n",
    "        draws += 1\n",
    "\n",
    "    print(f\"Game {game_number} result: {result}\\n\")"
   ]
  },
  {
   "cell_type": "code",
   "execution_count": 11,
   "metadata": {},
   "outputs": [
    {
     "name": "stdout",
     "output_type": "stream",
     "text": [
      "Final Results after 10 games:\n",
      "High ELO Wins: 10\n",
      "Low ELO Wins: 0\n",
      "Draws: 0\n"
     ]
    }
   ],
   "source": [
    "print(f\"Final Results after {NUM_GAMES} games:\")\n",
    "print(f\"High ELO Wins: {high_elo_wins}\")\n",
    "print(f\"Low ELO Wins: {low_elo_wins}\")\n",
    "print(f\"Draws: {draws}\")\n"
   ]
  },
  {
   "cell_type": "code",
   "execution_count": 12,
   "metadata": {},
   "outputs": [],
   "source": [
    "with open(\"elo_match_results.txt\", \"w\") as result_file:\n",
    "    result_file.write(f\"Final Results after {NUM_GAMES} games:\\n\")\n",
    "    result_file.write(f\"High ELO Wins: {high_elo_wins}\\n\")\n",
    "    result_file.write(f\"Low ELO Wins: {low_elo_wins}\\n\")\n",
    "    result_file.write(f\"Draws: {draws}\\n\")\n"
   ]
  },
  {
   "cell_type": "code",
   "execution_count": null,
   "metadata": {},
   "outputs": [],
   "source": []
  }
 ],
 "metadata": {
  "kernelspec": {
   "display_name": "env",
   "language": "python",
   "name": "python3"
  },
  "language_info": {
   "codemirror_mode": {
    "name": "ipython",
    "version": 3
   },
   "file_extension": ".py",
   "mimetype": "text/x-python",
   "name": "python",
   "nbconvert_exporter": "python",
   "pygments_lexer": "ipython3",
   "version": "3.12.5"
  }
 },
 "nbformat": 4,
 "nbformat_minor": 2
}
