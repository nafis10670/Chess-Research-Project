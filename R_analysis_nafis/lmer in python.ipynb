{
 "cells": [
  {
   "cell_type": "code",
   "execution_count": 2,
   "id": "7ba27344",
   "metadata": {},
   "outputs": [],
   "source": [
    "import warnings\n",
    "import pandas as pd\n",
    "import os"
   ]
  },
  {
   "cell_type": "code",
   "execution_count": 3,
   "id": "9113407b",
   "metadata": {},
   "outputs": [],
   "source": [
    "def load_csv_data(folder_name, file_name):\n",
    "    csv_path = os.path.join(folder_name, file_name+\".csv\")\n",
    "    return pd.read_csv(csv_path, encoding='latin-1')"
   ]
  },
  {
   "cell_type": "code",
   "execution_count": 2,
   "id": "874cd32d",
   "metadata": {},
   "outputs": [
    {
     "ename": "ModuleNotFoundError",
     "evalue": "No module named 'rpy2'",
     "output_type": "error",
     "traceback": [
      "\u001b[0;31m---------------------------------------------------------------------------\u001b[0m",
      "\u001b[0;31mModuleNotFoundError\u001b[0m                       Traceback (most recent call last)",
      "Cell \u001b[0;32mIn[2], line 3\u001b[0m\n\u001b[1;32m      1\u001b[0m packnames \u001b[38;5;241m=\u001b[39m (\u001b[38;5;124m'\u001b[39m\u001b[38;5;124mlme4\u001b[39m\u001b[38;5;124m'\u001b[39m, \u001b[38;5;124m'\u001b[39m\u001b[38;5;124mlmerTest\u001b[39m\u001b[38;5;124m'\u001b[39m, \u001b[38;5;124m'\u001b[39m\u001b[38;5;124memmeans\u001b[39m\u001b[38;5;124m'\u001b[39m, \u001b[38;5;124m\"\u001b[39m\u001b[38;5;124mgeepack\u001b[39m\u001b[38;5;124m\"\u001b[39m,\u001b[38;5;124m'\u001b[39m\u001b[38;5;124mlsmeans\u001b[39m\u001b[38;5;124m'\u001b[39m,\u001b[38;5;124m'\u001b[39m\u001b[38;5;124mARTool\u001b[39m\u001b[38;5;124m'\u001b[39m,\u001b[38;5;124m'\u001b[39m\u001b[38;5;124mphia\u001b[39m\u001b[38;5;124m'\u001b[39m,\n\u001b[1;32m      2\u001b[0m              \u001b[38;5;124m'\u001b[39m\u001b[38;5;124mmultcomp\u001b[39m\u001b[38;5;124m'\u001b[39m,\u001b[38;5;124m'\u001b[39m\u001b[38;5;124mreshape2\u001b[39m\u001b[38;5;124m'\u001b[39m,\u001b[38;5;124m'\u001b[39m\u001b[38;5;124mrstatix\u001b[39m\u001b[38;5;124m'\u001b[39m,\u001b[38;5;124m'\u001b[39m\u001b[38;5;124mez\u001b[39m\u001b[38;5;124m'\u001b[39m,\u001b[38;5;124m'\u001b[39m\u001b[38;5;124mdplyr\u001b[39m\u001b[38;5;124m'\u001b[39m,\u001b[38;5;124m'\u001b[39m\u001b[38;5;124mxtable\u001b[39m\u001b[38;5;124m'\u001b[39m,\u001b[38;5;124m'\u001b[39m\u001b[38;5;124mggpubr\u001b[39m\u001b[38;5;124m'\u001b[39m,\u001b[38;5;124m'\u001b[39m\u001b[38;5;124mlazyeval\u001b[39m\u001b[38;5;124m'\u001b[39m)\n\u001b[0;32m----> 3\u001b[0m \u001b[38;5;28;01mfrom\u001b[39;00m\u001b[38;5;250m \u001b[39m\u001b[38;5;21;01mrpy2\u001b[39;00m\u001b[38;5;21;01m.\u001b[39;00m\u001b[38;5;21;01mrobjects\u001b[39;00m\u001b[38;5;21;01m.\u001b[39;00m\u001b[38;5;21;01mpackages\u001b[39;00m\u001b[38;5;250m \u001b[39m\u001b[38;5;28;01mimport\u001b[39;00m importr\n\u001b[1;32m      4\u001b[0m \u001b[38;5;28;01mfrom\u001b[39;00m\u001b[38;5;250m \u001b[39m\u001b[38;5;21;01mrpy2\u001b[39;00m\u001b[38;5;21;01m.\u001b[39;00m\u001b[38;5;21;01mrobjects\u001b[39;00m\u001b[38;5;21;01m.\u001b[39;00m\u001b[38;5;21;01mvectors\u001b[39;00m\u001b[38;5;250m \u001b[39m\u001b[38;5;28;01mimport\u001b[39;00m StrVector\n\u001b[1;32m      5\u001b[0m utils \u001b[38;5;241m=\u001b[39m importr(\u001b[38;5;124m\"\u001b[39m\u001b[38;5;124mutils\u001b[39m\u001b[38;5;124m\"\u001b[39m)\n",
      "\u001b[0;31mModuleNotFoundError\u001b[0m: No module named 'rpy2'"
     ]
    }
   ],
   "source": [
    "packnames = ('lme4', 'lmerTest', 'emmeans', \"geepack\",'lsmeans','ARTool','phia',\n",
    "             'multcomp','reshape2','rstatix','ez','dplyr','xtable','ggpubr','lazyeval')\n",
    "from rpy2.robjects.packages import importr\n",
    "from rpy2.robjects.vectors import StrVector\n",
    "utils = importr(\"utils\")\n",
    "utils.chooseCRANmirror(ind=1)\n",
    "utils.install_packages(StrVector(packnames))"
   ]
  },
  {
   "cell_type": "code",
   "execution_count": 6,
   "id": "488f08bf",
   "metadata": {},
   "outputs": [],
   "source": [
    "%load_ext rpy2.ipython"
   ]
  },
  {
   "cell_type": "code",
   "execution_count": 7,
   "id": "f1cc4a5d",
   "metadata": {
    "scrolled": true
   },
   "outputs": [
    {
     "data": {
      "text/plain": [
       "Loading required package: emmeans\n",
       "Welcome to emmeans.\n",
       "Caution: You lose important information if you filter this package's results.\n",
       "See '? untidy'\n",
       "The 'lsmeans' package is now basically a front end for 'emmeans'.\n",
       "Users are encouraged to switch the rest of the way.\n",
       "See help('transition') for more information, including how to\n",
       "convert old 'lsmeans' objects and scripts to work with 'emmeans'.\n",
       "Loading required package: car\n",
       "Loading required package: carData\n",
       "Loading required package: Matrix\n",
       "\n",
       "Attaching package: ‘lmerTest’\n",
       "\n",
       "The following object is masked from ‘package:lme4’:\n",
       "\n",
       "    lmer\n",
       "\n",
       "The following object is masked from ‘package:stats’:\n",
       "\n",
       "    step\n",
       "\n",
       "Loading required package: mvtnorm\n",
       "Loading required package: survival\n",
       "Loading required package: TH.data\n",
       "Loading required package: MASS\n",
       "\n",
       "Attaching package: ‘TH.data’\n",
       "\n",
       "The following object is masked from ‘package:MASS’:\n",
       "\n",
       "    geyser\n",
       "\n",
       "\n",
       "Attaching package: ‘rstatix’\n",
       "\n",
       "The following object is masked from ‘package:MASS’:\n",
       "\n",
       "    select\n",
       "\n",
       "The following object is masked from ‘package:stats’:\n",
       "\n",
       "    filter\n",
       "\n",
       "\n",
       "Attaching package: ‘plyr’\n",
       "\n",
       "The following objects are masked from ‘package:rstatix’:\n",
       "\n",
       "    desc, mutate\n",
       "\n",
       "\n",
       "Attaching package: ‘dplyr’\n",
       "\n",
       "The following objects are masked from ‘package:plyr’:\n",
       "\n",
       "    arrange, count, desc, failwith, id, mutate, rename, summarise,\n",
       "    summarize\n",
       "\n",
       "The following object is masked from ‘package:MASS’:\n",
       "\n",
       "    select\n",
       "\n",
       "The following object is masked from ‘package:car’:\n",
       "\n",
       "    recode\n",
       "\n",
       "The following objects are masked from ‘package:stats’:\n",
       "\n",
       "    filter, lag\n",
       "\n",
       "The following objects are masked from ‘package:base’:\n",
       "\n",
       "    intersect, setdiff, setequal, union\n",
       "\n",
       "Loading required package: ggplot2\n",
       "RStudio Community is a great place to get help:\n",
       "https://community.rstudio.com/c/tidyverse\n",
       "\n",
       "Attaching package: ‘ggpubr’\n",
       "\n",
       "The following object is masked from ‘package:plyr’:\n",
       "\n",
       "    mutate\n",
       "\n"
      ]
     },
     "metadata": {},
     "output_type": "display_data"
    }
   ],
   "source": [
    "%%R \n",
    "library(lsmeans)\n",
    "library(emmeans)\n",
    "library(ARTool)\n",
    "library(phia)\n",
    "library(lme4) \n",
    "library(lmerTest)\n",
    "library(car) \n",
    "library(multcomp)\n",
    "library(reshape2)\n",
    "library(rstatix)\n",
    "library(plyr)\n",
    "library(ez)\n",
    "library(dplyr)\n",
    "library(xtable)\n",
    "library(ggpubr)"
   ]
  },
  {
   "cell_type": "code",
   "execution_count": 4,
   "id": "043f14df",
   "metadata": {},
   "outputs": [],
   "source": [
    "df= load_csv_data(\"data\",\"evaluation_merged\")"
   ]
  },
  {
   "cell_type": "code",
   "execution_count": 5,
   "id": "616fdc82",
   "metadata": {},
   "outputs": [
    {
     "name": "stdout",
     "output_type": "stream",
     "text": [
      "<class 'pandas.core.frame.DataFrame'>\n",
      "RangeIndex: 10001 entries, 0 to 10000\n",
      "Data columns (total 5 columns):\n",
      " #   Column           Non-Null Count  Dtype \n",
      "---  ------           --------------  ----- \n",
      " 0   iteration        10001 non-null  int64 \n",
      " 1   puzzle_id        10001 non-null  int64 \n",
      " 2   method           10001 non-null  object\n",
      " 3   best_move_score  10001 non-null  int64 \n",
      " 4   move_score       10001 non-null  int64 \n",
      "dtypes: int64(4), object(1)\n",
      "memory usage: 390.8+ KB\n"
     ]
    }
   ],
   "source": [
    "df.info()"
   ]
  },
  {
   "cell_type": "code",
   "execution_count": 6,
   "id": "efcc712a-c008-47ee-926a-07dc2c0018dd",
   "metadata": {},
   "outputs": [],
   "source": [
    "df['score'] = df.apply(lambda x: x.best_move_score-x.move_score,axis=1)"
   ]
  },
  {
   "cell_type": "code",
   "execution_count": 7,
   "id": "67d82f9c-4009-40a7-bec9-6579cca5f006",
   "metadata": {},
   "outputs": [
    {
     "data": {
      "text/html": [
       "<div>\n",
       "<style scoped>\n",
       "    .dataframe tbody tr th:only-of-type {\n",
       "        vertical-align: middle;\n",
       "    }\n",
       "\n",
       "    .dataframe tbody tr th {\n",
       "        vertical-align: top;\n",
       "    }\n",
       "\n",
       "    .dataframe thead th {\n",
       "        text-align: right;\n",
       "    }\n",
       "</style>\n",
       "<table border=\"1\" class=\"dataframe\">\n",
       "  <thead>\n",
       "    <tr style=\"text-align: right;\">\n",
       "      <th></th>\n",
       "      <th>iteration</th>\n",
       "      <th>puzzle_id</th>\n",
       "      <th>method</th>\n",
       "      <th>best_move_score</th>\n",
       "      <th>move_score</th>\n",
       "      <th>score</th>\n",
       "    </tr>\n",
       "  </thead>\n",
       "  <tbody>\n",
       "    <tr>\n",
       "      <th>0</th>\n",
       "      <td>0</td>\n",
       "      <td>1</td>\n",
       "      <td>Random</td>\n",
       "      <td>195</td>\n",
       "      <td>21</td>\n",
       "      <td>174</td>\n",
       "    </tr>\n",
       "    <tr>\n",
       "      <th>1</th>\n",
       "      <td>1</td>\n",
       "      <td>1</td>\n",
       "      <td>Random</td>\n",
       "      <td>195</td>\n",
       "      <td>-473</td>\n",
       "      <td>668</td>\n",
       "    </tr>\n",
       "    <tr>\n",
       "      <th>2</th>\n",
       "      <td>2</td>\n",
       "      <td>1</td>\n",
       "      <td>Random</td>\n",
       "      <td>195</td>\n",
       "      <td>21</td>\n",
       "      <td>174</td>\n",
       "    </tr>\n",
       "    <tr>\n",
       "      <th>3</th>\n",
       "      <td>3</td>\n",
       "      <td>1</td>\n",
       "      <td>Random</td>\n",
       "      <td>195</td>\n",
       "      <td>-52</td>\n",
       "      <td>247</td>\n",
       "    </tr>\n",
       "    <tr>\n",
       "      <th>4</th>\n",
       "      <td>4</td>\n",
       "      <td>1</td>\n",
       "      <td>Random</td>\n",
       "      <td>195</td>\n",
       "      <td>-52</td>\n",
       "      <td>247</td>\n",
       "    </tr>\n",
       "  </tbody>\n",
       "</table>\n",
       "</div>"
      ],
      "text/plain": [
       "   iteration  puzzle_id  method  best_move_score  move_score  score\n",
       "0          0          1  Random              195          21    174\n",
       "1          1          1  Random              195        -473    668\n",
       "2          2          1  Random              195          21    174\n",
       "3          3          1  Random              195         -52    247\n",
       "4          4          1  Random              195         -52    247"
      ]
     },
     "execution_count": 7,
     "metadata": {},
     "output_type": "execute_result"
    }
   ],
   "source": [
    "df.head()"
   ]
  },
  {
   "cell_type": "code",
   "execution_count": 8,
   "id": "067f279d-e6c0-4a54-a8dc-68aef0a77dba",
   "metadata": {},
   "outputs": [
    {
     "data": {
      "text/plain": [
       "np.int64(-50)"
      ]
     },
     "execution_count": 8,
     "metadata": {},
     "output_type": "execute_result"
    }
   ],
   "source": [
    "df['score'].min()"
   ]
  },
  {
   "cell_type": "code",
   "execution_count": 9,
   "id": "61d710ba",
   "metadata": {},
   "outputs": [
    {
     "name": "stdout",
     "output_type": "stream",
     "text": [
      "iteration               0\n",
      "puzzle_id             100\n",
      "method             Random\n",
      "best_move_score        96\n",
      "move_score            146\n",
      "score                 -50\n",
      "Name: 4950, dtype: object\n"
     ]
    }
   ],
   "source": [
    "min_row = df.iloc[df['score'].idxmin()]\n",
    "\n",
    "print(min_row)"
   ]
  },
  {
   "cell_type": "code",
   "execution_count": 10,
   "id": "2f7174d7",
   "metadata": {},
   "outputs": [
    {
     "name": "stdout",
     "output_type": "stream",
     "text": [
      "      iteration  puzzle_id  method  best_move_score  move_score  score\n",
      "444          44          9  Random              126         130     -4\n",
      "494          44         10  Random               86          89     -3\n",
      "644          44         13  Random              385         397    -12\n",
      "2280         30         46  Random               99         103     -4\n",
      "2367         17         48  Random              130         136     -6\n",
      "2384         34         48  Random              130         136     -6\n",
      "4086         36         82  Random              143         164    -21\n",
      "4586         36         92  Random              346         365    -19\n",
      "4950          0        100  Random               96         146    -50\n",
      "4974         24        100  Random               96         146    -50\n",
      "4975         25        100  Random               96         146    -50\n",
      "4991         41        100  Random               96         146    -50\n",
      "4995         45        100  Random               96         117    -21\n"
     ]
    }
   ],
   "source": [
    "filtered_rows = df[df['score'] < 0]\n",
    "\n",
    "print(filtered_rows)"
   ]
  },
  {
   "cell_type": "code",
   "execution_count": 34,
   "id": "ecb39666-56d0-459f-9585-72b2d7ba72cd",
   "metadata": {},
   "outputs": [
    {
     "data": {
      "text/plain": [
       "1412"
      ]
     },
     "execution_count": 34,
     "metadata": {},
     "output_type": "execute_result"
    }
   ],
   "source": [
    "df['score'].max()"
   ]
  },
  {
   "cell_type": "code",
   "execution_count": 37,
   "id": "d2a33d7b-bf1f-4a00-92f5-a0032f81b2f3",
   "metadata": {},
   "outputs": [
    {
     "name": "stdout",
     "output_type": "stream",
     "text": [
      "\n",
      "\tWelch Two Sample t-test\n",
      "\n",
      "data:  score by as.factor(method)\n",
      "t = -13.913, df = 9865.9, p-value < 2.2e-16\n",
      "alternative hypothesis: true difference in means between group Qwen:32B and group Random is not equal to 0\n",
      "95 percent confidence interval:\n",
      " -88.65386 -66.75853\n",
      "sample estimates:\n",
      "mean in group Qwen:32B   mean in group Random \n",
      "              290.9542               368.6604 \n",
      "\n"
     ]
    }
   ],
   "source": [
    "%%R -i df\n",
    "\n",
    "df$method = factor(df$method) # convert to nominal factor\n",
    "df$puzzle_id = factor(df$puzzle_id) # convert to nominal factor\n",
    "\n",
    "t.test(score ~ as.factor(method), data = df) "
   ]
  },
  {
   "cell_type": "code",
   "execution_count": 35,
   "id": "c720bb01-b2b8-40e8-9600-64b75f74933d",
   "metadata": {},
   "outputs": [
    {
     "name": "stdout",
     "output_type": "stream",
     "text": [
      "Linear mixed model fit by REML. t-tests use Satterthwaite's method [\n",
      "lmerModLmerTest]\n",
      "Formula: score ~ method + (1 | puzzle_id)\n",
      "   Data: df\n",
      "\n",
      "REML criterion at convergence: 128945.3\n",
      "\n",
      "Scaled residuals: \n",
      "    Min      1Q  Median      3Q     Max \n",
      "-8.1291 -0.3611 -0.1289  0.1717  6.0383 \n",
      "\n",
      "Random effects:\n",
      " Groups    Name        Variance Std.Dev.\n",
      " puzzle_id (Intercept) 56483    237.7   \n",
      " Residual              22055    148.5   \n",
      "Number of obs: 10001, groups:  puzzle_id, 100\n",
      "\n",
      "Fixed effects:\n",
      "             Estimate Std. Error      df t value Pr(>|t|)    \n",
      "(Intercept)    291.03      23.86   99.77   12.20   <2e-16 ***\n",
      "methodRandom    77.63       2.97 9900.00   26.14   <2e-16 ***\n",
      "---\n",
      "Signif. codes:  0 ‘***’ 0.001 ‘**’ 0.01 ‘*’ 0.05 ‘.’ 0.1 ‘ ’ 1\n",
      "\n",
      "Correlation of Fixed Effects:\n",
      "            (Intr)\n",
      "methodRandm -0.062\n"
     ]
    }
   ],
   "source": [
    "%%R -i df\n",
    "\n",
    "df$method = factor(df$method) # convert to nominal factor\n",
    "df$puzzle_id = factor(df$puzzle_id) # convert to nominal factor\n",
    "\n",
    "mart = lmer(score ~ method + (1|puzzle_id), data=df) # uses LMM\n",
    "print(summary(mart)) # report anova"
   ]
  },
  {
   "cell_type": "code",
   "execution_count": 38,
   "id": "075a76c4-3c6e-4ef8-affd-bdbc4b3c4e06",
   "metadata": {},
   "outputs": [
    {
     "data": {
      "image/png": "[encoded data removed]",
      "text/plain": [
       "<IPython.core.display.Image object>"
      ]
     },
     "metadata": {},
     "output_type": "display_data"
    }
   ],
   "source": [
    "%%R -i df\n",
    "\n",
    "df$method = factor(df$method) # convert to nominal factor\n",
    "df$puzzle_id = factor(df$puzzle_id) # convert to nominal factor\n",
    "\n",
    "boxplot(score ~ method,data=df)"
   ]
  },
  {
   "cell_type": "code",
   "execution_count": null,
   "id": "c0a8165a-1ef0-4f60-bd4a-726cd879ae73",
   "metadata": {},
   "outputs": [],
   "source": []
  },
  {
   "cell_type": "code",
   "execution_count": null,
   "id": "cbaa5662-e57a-4617-9906-91dec5cf2eba",
   "metadata": {},
   "outputs": [],
   "source": []
  },
  {
   "cell_type": "code",
   "execution_count": null,
   "id": "9348b6bb-688a-4a29-88c2-eab804e0ea87",
   "metadata": {},
   "outputs": [],
   "source": []
  },
  {
   "cell_type": "code",
   "execution_count": null,
   "id": "a2d64953",
   "metadata": {},
   "outputs": [],
   "source": []
  }
 ],
 "metadata": {
  "kernelspec": {
   "display_name": "env",
   "language": "python",
   "name": "python3"
  },
  "language_info": {
   "codemirror_mode": {
    "name": "ipython",
    "version": 3
   },
   "file_extension": ".py",
   "mimetype": "text/x-python",
   "name": "python",
   "nbconvert_exporter": "python",
   "pygments_lexer": "ipython3",
   "version": "3.12.5"
  }
 },
 "nbformat": 4,
 "nbformat_minor": 5
}
