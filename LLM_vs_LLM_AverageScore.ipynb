{
 "cells": [
  {
   "cell_type": "code",
   "execution_count": 6,
   "metadata": {},
   "outputs": [],
   "source": [
    "import pandas as pd"
   ]
  },
  {
   "cell_type": "code",
   "execution_count": 8,
   "metadata": {},
   "outputs": [
    {
     "name": "stdout",
     "output_type": "stream",
     "text": [
      "Duplicate rows found:\n",
      "      Game Number Qwen Color Best Move  Best Move Score Qwen Move  \\\n",
      "5               1      black      d8g5           -455.0       Nh6   \n",
      "6               1      black      d8g5           -455.0       Nh6   \n",
      "7               1      black      d8g5           -455.0       Nh6   \n",
      "8               1      white      d2d3            -38.3       Bb5   \n",
      "9               1      white      d2d3            -38.3       Bb5   \n",
      "...           ...        ...       ...              ...       ...   \n",
      "8607           60      white      e2h5          19996.0      Qxh5   \n",
      "8608           60      white      e2h5          19996.0      Qxh5   \n",
      "8609           60      white      e2h5          19996.0      Qxh5   \n",
      "8614           60      black      f7g8           1030.5       Kf6   \n",
      "8615           60      black      f7g8           1030.5       Kf6   \n",
      "\n",
      "      Qwen Move Score  Score Difference  \n",
      "5               -27.0            -428.0  \n",
      "6               -27.0            -428.0  \n",
      "7               -27.0            -428.0  \n",
      "8              -443.0             404.7  \n",
      "9              -443.0             404.7  \n",
      "...               ...               ...  \n",
      "8607          19995.2               0.8  \n",
      "8608          19995.2               0.8  \n",
      "8609          19995.2               0.8  \n",
      "8614         -20004.0           21034.5  \n",
      "8615         -20004.0           21034.5  \n",
      "\n",
      "[4436 rows x 7 columns]\n"
     ]
    }
   ],
   "source": [
    "df = pd.read_csv(\"/Users/nafis-mac/GitHub Repos/Chess-Research-Project/Experiments/LLM_vs_LLM_ScoreAnalysis.csv\")\n",
    "\n",
    "duplicates = df[df.duplicated(keep=False)]\n",
    "print(\"Duplicate rows found:\")\n",
    "print(duplicates)\n",
    "\n",
    "df_cleaned = df.drop_duplicates()\n",
    "\n",
    "df_cleaned.to_csv(\"LLM_vs_LLM_ScoreAnalysis_Cleaned.csv\", index=False)"
   ]
  },
  {
   "cell_type": "code",
   "execution_count": 10,
   "metadata": {},
   "outputs": [],
   "source": [
    "df = pd.read_csv(\"/Users/nafis-mac/GitHub Repos/Chess-Research-Project/LLM_vs_LLM_ScoreAnalysis_Cleaned.csv\")"
   ]
  },
  {
   "cell_type": "code",
   "execution_count": 11,
   "metadata": {},
   "outputs": [],
   "source": [
    "df_white = df[df[\"Qwen Color\"] == \"white\"]\n",
    "df_white.to_csv(\"LLM_vs_LLM_ScoreAnalysis_White.csv\", index=False)"
   ]
  },
  {
   "cell_type": "code",
   "execution_count": 12,
   "metadata": {},
   "outputs": [],
   "source": [
    "df_black = df[df[\"Qwen Color\"] == \"black\"]\n",
    "df_black.to_csv(\"LLM_vs_LLM_ScoreAnalysis_Black.csv\", index=False)"
   ]
  },
  {
   "cell_type": "code",
   "execution_count": 13,
   "metadata": {},
   "outputs": [],
   "source": [
    "df = pd.read_csv(\"/Users/nafis-mac/GitHub Repos/Chess-Research-Project/LLM_vs_LLM_ScoreAnalysis_White.csv\")"
   ]
  },
  {
   "cell_type": "code",
   "execution_count": 14,
   "metadata": {},
   "outputs": [],
   "source": [
    "avg_score_diff_white = df.groupby(\"Game Number\")[\"Score Difference\"].mean().round(3).reset_index()\n",
    "avg_score_diff_white[\"Color\"] = \"White\"\n",
    "\n",
    "# avg_score_diff_white.columns = [\"Game Number\", \"Average Score Difference White\"]\n",
    "\n",
    "# df_merged = pd.merge(df, avg_score_diff_white)\n",
    "\n",
    "# df_merged.to_csv(\"LLM_vs_LLM_ScoreAnalysis_White_updated.csv\")\n",
    "\n",
    "# print(avg_score_diff)"
   ]
  },
  {
   "cell_type": "code",
   "execution_count": 15,
   "metadata": {},
   "outputs": [],
   "source": [
    "df = pd.read_csv(\"/Users/nafis-mac/GitHub Repos/Chess-Research-Project/LLM_vs_LLM_ScoreAnalysis_Black.csv\")"
   ]
  },
  {
   "cell_type": "code",
   "execution_count": 16,
   "metadata": {},
   "outputs": [],
   "source": [
    "avg_score_diff_black = df.groupby(\"Game Number\")[\"Score Difference\"].mean().round(3).reset_index()\n",
    "avg_score_diff_black[\"Color\"] = \"Black\"\n",
    "\n",
    "# avg_score_diff_black.columns = [\"Game Number\", \"Average Score Difference Black\"]\n",
    "\n",
    "# df_merged = pd.merge(df, avg_score_diff_black)\n",
    "\n",
    "# df_merged.to_csv(\"LLM_vs_LLM_ScoreAnalysis_Black_updated.csv\")"
   ]
  },
  {
   "cell_type": "code",
   "execution_count": 19,
   "metadata": {},
   "outputs": [
    {
     "name": "stdout",
     "output_type": "stream",
     "text": [
      "    Game Number  Score Difference  Color\n",
      "0             1          -453.476  White\n",
      "1             2         -2154.458  White\n",
      "2             3           166.094  White\n",
      "3             4         -1006.948  White\n",
      "4             5          1054.086  White\n",
      "5             6          -249.776  White\n",
      "6             7           830.036  White\n",
      "7             8          -162.122  White\n",
      "8             9          -150.831  White\n",
      "9            10           674.104  White\n",
      "10           11           270.486  White\n",
      "11           12           177.626  White\n",
      "12           13         -2984.872  White\n",
      "13           14          -838.860  White\n",
      "14           15           343.580  White\n",
      "15           16           279.452  White\n",
      "16           17          -564.252  White\n",
      "17           18           338.566  White\n",
      "18           19         -1249.510  White\n",
      "19           20          -627.482  White\n",
      "20           21          2490.235  White\n",
      "21           22           275.156  White\n",
      "22           23         -1762.790  White\n",
      "23           24          -101.140  White\n",
      "24           25           209.640  White\n",
      "25           26          -522.612  White\n",
      "26           27         -2069.354  White\n",
      "27           28         -5446.806  White\n",
      "28           29           358.380  White\n",
      "29           30         -5588.880  White\n",
      "30           31           247.386  White\n",
      "31           32          1189.744  White\n",
      "32           33           505.235  White\n",
      "33           34          -573.430  White\n",
      "34           35           178.692  White\n",
      "35           36          1802.638  White\n",
      "36           37         -1669.770  White\n",
      "37           38          -723.830  White\n",
      "38           39          3506.082  White\n",
      "39           40           321.088  White\n",
      "40           41          -527.940  White\n",
      "41           42          -955.868  White\n",
      "42           43         -6866.696  White\n",
      "43           44           349.956  White\n",
      "44           45           661.826  White\n",
      "45           46         -2446.676  White\n",
      "46           47         -1805.878  White\n",
      "47           48          -581.568  White\n",
      "48           49         -5233.656  White\n",
      "49           50          -803.218  White\n",
      "50           51          3810.574  White\n",
      "51           52         -3737.970  White\n",
      "52           53         -1318.540  White\n",
      "53           54          1065.423  White\n",
      "54           55         -1013.570  White\n",
      "55           56          -651.134  White\n",
      "56           57            16.210  White\n",
      "57           58           228.048  White\n",
      "58           59           380.307  White\n",
      "59           60          2781.320  White\n"
     ]
    }
   ],
   "source": [
    "print(avg_score_diff_white)"
   ]
  },
  {
   "cell_type": "code",
   "execution_count": 17,
   "metadata": {},
   "outputs": [
    {
     "name": "stdout",
     "output_type": "stream",
     "text": [
      "     Game Number  Score Difference  Color\n",
      "0              1          -453.476  White\n",
      "1              2         -2154.458  White\n",
      "2              3           166.094  White\n",
      "3              4         -1006.948  White\n",
      "4              5          1054.086  White\n",
      "..           ...               ...    ...\n",
      "115           56         -1260.626  Black\n",
      "116           57          -147.314  Black\n",
      "117           58          -229.418  Black\n",
      "118           59          -370.471  Black\n",
      "119           60          1872.542  Black\n",
      "\n",
      "[120 rows x 3 columns]\n"
     ]
    }
   ],
   "source": [
    "merged_df = pd.concat([avg_score_diff_white, avg_score_diff_black], ignore_index=True)\n",
    "\n",
    "merged_df[\"Color\"] = pd.Categorical(merged_df[\"Color\"], categories=[\"White\", \"Black\"], ordered=True)\n",
    "merged_df = merged_df.sort_values([\"Color\", \"Game Number\"]).reset_index(drop=True)\n",
    "\n",
    "print(merged_df)\n",
    "\n",
    "merged_df.to_csv(\"LLM_vs_LLM_AverageScores.csv\")"
   ]
  }
 ],
 "metadata": {
  "kernelspec": {
   "display_name": "env",
   "language": "python",
   "name": "python3"
  },
  "language_info": {
   "codemirror_mode": {
    "name": "ipython",
    "version": 3
   },
   "file_extension": ".py",
   "mimetype": "text/x-python",
   "name": "python",
   "nbconvert_exporter": "python",
   "pygments_lexer": "ipython3",
   "version": "3.12.5"
  }
 },
 "nbformat": 4,
 "nbformat_minor": 2
}
