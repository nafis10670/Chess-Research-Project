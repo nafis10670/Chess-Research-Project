{
 "cells": [
  {
   "cell_type": "code",
   "execution_count": 2,
   "metadata": {},
   "outputs": [],
   "source": [
    "import pandas as pd"
   ]
  },
  {
   "cell_type": "code",
   "execution_count": 3,
   "metadata": {},
   "outputs": [
    {
     "name": "stdout",
     "output_type": "stream",
     "text": [
      "Duplicate rows found:\n",
      "      Game Number Qwen Color Best Move  Best Move Score Qwen Move  \\\n",
      "5               1      black      d8g5           -457.6       Nh6   \n",
      "6               1      black      d8g5           -457.6       Nh6   \n",
      "7               1      black      d8g5           -457.6       Nh6   \n",
      "8               1      white      g5f3            -22.0       Bb5   \n",
      "9               1      white      g5f3            -22.0       Bb5   \n",
      "...           ...        ...       ...              ...       ...   \n",
      "8607           60      white      e2h5          19993.3      Qxh5   \n",
      "8608           60      white      e2h5          19993.3      Qxh5   \n",
      "8609           60      white      e2h5          19993.3      Qxh5   \n",
      "8614           60      black      f7g8           1058.2       Kf6   \n",
      "8615           60      black      f7g8           1058.2       Kf6   \n",
      "\n",
      "      Qwen Move Score  Score Difference  \n",
      "5             -235.75           -221.85  \n",
      "6             -235.75           -221.85  \n",
      "7             -235.75           -221.85  \n",
      "8             -232.25            210.25  \n",
      "9             -232.25            210.25  \n",
      "...               ...               ...  \n",
      "8607         19994.20             -0.90  \n",
      "8608         19994.20             -0.90  \n",
      "8609         19994.20             -0.90  \n",
      "8614         10527.10          -9468.90  \n",
      "8615         10527.10          -9468.90  \n",
      "\n",
      "[4436 rows x 7 columns]\n"
     ]
    }
   ],
   "source": [
    "df = pd.read_csv(\"/Users/nafis-mac/GitHub Repos/Chess-Research-Project/Experiments/LLM_vs_LLM_ScoreAnalysis.csv\")\n",
    "\n",
    "duplicates = df[df.duplicated(keep=False)]\n",
    "print(\"Duplicate rows found:\")\n",
    "print(duplicates)\n",
    "\n",
    "df_cleaned = df.drop_duplicates()\n",
    "\n",
    "df_cleaned.to_csv(\"LLM_vs_LLM_ScoreAnalysis_Cleaned.csv\", index=False)"
   ]
  },
  {
   "cell_type": "code",
   "execution_count": 9,
   "metadata": {},
   "outputs": [],
   "source": [
    "df = pd.read_csv(\"/Users/nafis-mac/GitHub Repos/Chess-Research-Project/Experiments/LLM_vs_LLM_ScoreAnalysis_Cleaned.csv\")"
   ]
  },
  {
   "cell_type": "code",
   "execution_count": 10,
   "metadata": {},
   "outputs": [],
   "source": [
    "df_white = df[df[\"Qwen Color\"] == \"white\"]\n",
    "df_white.to_csv(\"LLM_vs_LLM_ScoreAnalysis_White.csv\", index=False)"
   ]
  },
  {
   "cell_type": "code",
   "execution_count": 11,
   "metadata": {},
   "outputs": [],
   "source": [
    "df_black = df[df[\"Qwen Color\"] == \"black\"]\n",
    "df_black.to_csv(\"LLM_vs_LLM_ScoreAnalysis_Black.csv\", index=False)"
   ]
  },
  {
   "cell_type": "code",
   "execution_count": 19,
   "metadata": {},
   "outputs": [],
   "source": [
    "df = pd.read_csv(\"/Users/nafis-mac/GitHub Repos/Chess-Research-Project/LLM_vs_LLM_ScoreAnalysis_White.csv\")"
   ]
  },
  {
   "cell_type": "code",
   "execution_count": 23,
   "metadata": {},
   "outputs": [],
   "source": [
    "avg_score_diff_white = df.groupby(\"Game Number\")[\"Score Difference\"].mean().round(3).reset_index()\n",
    "avg_score_diff_white[\"Color\"] = \"White\"\n",
    "\n",
    "# avg_score_diff_white.columns = [\"Game Number\", \"Average Score Difference White\"]\n",
    "\n",
    "# df_merged = pd.merge(df, avg_score_diff_white)\n",
    "\n",
    "# df_merged.to_csv(\"LLM_vs_LLM_ScoreAnalysis_White_updated.csv\")\n",
    "\n",
    "# print(avg_score_diff)"
   ]
  },
  {
   "cell_type": "code",
   "execution_count": 24,
   "metadata": {},
   "outputs": [],
   "source": [
    "df = pd.read_csv(\"/Users/nafis-mac/GitHub Repos/Chess-Research-Project/LLM_vs_LLM_ScoreAnalysis_Black.csv\")"
   ]
  },
  {
   "cell_type": "code",
   "execution_count": 25,
   "metadata": {},
   "outputs": [],
   "source": [
    "avg_score_diff_black = df.groupby(\"Game Number\")[\"Score Difference\"].mean().round(3).reset_index()\n",
    "avg_score_diff_black[\"Color\"] = \"Black\"\n",
    "\n",
    "# avg_score_diff_black.columns = [\"Game Number\", \"Average Score Difference Black\"]\n",
    "\n",
    "# df_merged = pd.merge(df, avg_score_diff_black)\n",
    "\n",
    "# df_merged.to_csv(\"LLM_vs_LLM_ScoreAnalysis_Black_updated.csv\")"
   ]
  },
  {
   "cell_type": "code",
   "execution_count": 27,
   "metadata": {},
   "outputs": [
    {
     "name": "stdout",
     "output_type": "stream",
     "text": [
      "     Game Number  Score Difference  Color\n",
      "0              1         -1748.705  White\n",
      "1              2         -1356.904  White\n",
      "2              3           -43.106  White\n",
      "3              4          -513.081  White\n",
      "4              5         -1059.715  White\n",
      "..           ...               ...    ...\n",
      "115           56         -1412.442  Black\n",
      "116           57         -1821.907  Black\n",
      "117           58          -113.248  Black\n",
      "118           59          -186.216  Black\n",
      "119           60         -4993.581  Black\n",
      "\n",
      "[120 rows x 3 columns]\n"
     ]
    }
   ],
   "source": [
    "merged_df = pd.concat([avg_score_diff_white, avg_score_diff_black], ignore_index=True)\n",
    "\n",
    "merged_df[\"Color\"] = pd.Categorical(merged_df[\"Color\"], categories=[\"White\", \"Black\"], ordered=True)\n",
    "merged_df = merged_df.sort_values([\"Color\", \"Game Number\"]).reset_index(drop=True)\n",
    "\n",
    "print(merged_df)\n",
    "\n",
    "merged_df.to_csv(\"LLM_vs_LLM_AverageScores.csv\")"
   ]
  }
 ],
 "metadata": {
  "kernelspec": {
   "display_name": "env",
   "language": "python",
   "name": "python3"
  },
  "language_info": {
   "codemirror_mode": {
    "name": "ipython",
    "version": 3
   },
   "file_extension": ".py",
   "mimetype": "text/x-python",
   "name": "python",
   "nbconvert_exporter": "python",
   "pygments_lexer": "ipython3",
   "version": "3.12.5"
  }
 },
 "nbformat": 4,
 "nbformat_minor": 2
}
